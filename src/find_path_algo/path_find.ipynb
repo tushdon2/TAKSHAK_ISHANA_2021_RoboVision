{
 "cells": [
  {
   "cell_type": "code",
   "execution_count": 13,
   "source": [
    "import numpy as np\r\n",
    "from PIL import Image \r\n",
    "import cv2\r\n",
    "\r\n",
    "from dataStructures import *"
   ],
   "outputs": [],
   "metadata": {}
  },
  {
   "cell_type": "code",
   "execution_count": 14,
   "source": [
    "location = \"../../assets/example/maze.jpg\"\r\n",
    "img = Image.open(location).convert('L')\r\n",
    "width, height = img.size\r\n",
    "\r\n",
    "img = np.array(img.point(lambda p: p > 128)) # white (p>128): 1, black(p<=128): 0"
   ],
   "outputs": [],
   "metadata": {}
  },
  {
   "cell_type": "markdown",
   "source": [
    "## Creating Pixel objects for all white pixels"
   ],
   "metadata": {}
  },
  {
   "cell_type": "code",
   "execution_count": null,
   "source": [
    "pixMtrx = [[Pixel(r, c) if img[r][c] == 1 else None for c in range(width)] for r in range(height)]\r\n",
    "start = pixMtrx[227][11] # start point\r\n",
    "start.dist = 0\r\n",
    "end = pixMtrx[211][163] # end point"
   ],
   "outputs": [],
   "metadata": {}
  },
  {
   "cell_type": "markdown",
   "source": [
    "## Checking for neighbours and connecting the graph"
   ],
   "metadata": {}
  },
  {
   "cell_type": "code",
   "execution_count": null,
   "source": [
    "for r in range(height - 1):\r\n",
    "    for c in range(width - 1):\r\n",
    "        if img[r, c] == 1: # if white\r\n",
    "            if img[r, c + 1] == 1: # if right pixel is white \r\n",
    "                pixMtrx[r][c].neighbours.append((r, c + 1))\r\n",
    "                pixMtrx[r][c + 1].neighbours.append((r, c)) # left of right pixel is white too\r\n",
    "            if img[r + 1, c] == 1: # if bottom pixel is white \r\n",
    "                pixMtrx[r][c].neighbours.append((r + 1, c))\r\n",
    "                pixMtrx[r + 1][c].neighbours.append((r, c)) # top of bottom pixel is white too\r\n",
    "for c in range(width - 1): # bottom most row\r\n",
    "    if img[height - 1, c] == 1 and img[height - 1, c + 1] == 1: # if right pixel is white \r\n",
    "        pixMtrx[height - 1][c].neighbours.append((height - 1, c + 1))\r\n",
    "        pixMtrx[height - 1][c + 1].neighbours.append((height - 1, c)) # left of right pixel is white too            \r\n",
    "for r in range(height - 1): # left most column\r\n",
    "    if img[r, width - 1] == 1 and img[r + 1, width - 1] == 1: # if bottom pixel is white \r\n",
    "        pixMtrx[r][width - 1].neighbours.append((r + 1, width - 1))\r\n",
    "        pixMtrx[r + 1][width - 1].neighbours.append((r, width - 1)) # top of bottom pixel is white too"
   ],
   "outputs": [],
   "metadata": {}
  },
  {
   "cell_type": "markdown",
   "source": [
    "# DIJKSTRA'S ALGORITHM"
   ],
   "metadata": {}
  },
  {
   "cell_type": "code",
   "execution_count": null,
   "source": [
    "prQ = PriorityQueue(pixMtrx)\r\n",
    "\r\n",
    "while (prQ.length > 0):\r\n",
    "    toVisit = prQ.dequeue()\r\n",
    "    toVisit.visited = True\r\n",
    "\r\n",
    "    for neBor in toVisit.neighbours:\r\n",
    "        if not pixMtrx[neBor[0]][neBor[1]].visited:\r\n",
    "            newDist = toVisit.dist + 1\r\n",
    "            if pixMtrx[neBor[0]][neBor[1]].dist > newDist:\r\n",
    "                pixMtrx[neBor[0]][neBor[1]].dist = newDist\r\n",
    "                pixMtrx[neBor[0]][neBor[1]].parent_row = toVisit.row\r\n",
    "                pixMtrx[neBor[0]][neBor[1]].parent_col = toVisit.col\r\n",
    "\r\n",
    "    prQ.buildHeap(prQ.length//2 - 1) # rebuilding the heap manually"
   ],
   "outputs": [],
   "metadata": {}
  },
  {
   "cell_type": "markdown",
   "source": [
    "## Getting path"
   ],
   "metadata": {}
  },
  {
   "cell_type": "code",
   "execution_count": null,
   "source": [
    "path = []\r\n",
    "temp = end\r\n",
    "while (temp != start):\r\n",
    "    path.append((temp.row, temp.col))\r\n",
    "    temp = pixMtrx[temp.parent_row][temp.parent_col]\r\n",
    "path.append((start.row, start.col))"
   ],
   "outputs": [],
   "metadata": {}
  },
  {
   "cell_type": "markdown",
   "source": [
    "## Visualising the path in OpenCV"
   ],
   "metadata": {}
  },
  {
   "cell_type": "code",
   "execution_count": null,
   "source": [
    "pic = cv2.imread(location)\r\n",
    "for coord in path:\r\n",
    "    pic = cv2.circle(pic, (coord[1], coord[0]), 2, (0, 0, 255), -1)\r\n",
    "\r\n",
    "cv2.imshow(\"Solution\", pic)\r\n",
    "cv2.waitKey(0)"
   ],
   "outputs": [],
   "metadata": {}
  }
 ],
 "metadata": {
  "orig_nbformat": 4,
  "language_info": {
   "name": "python",
   "version": "3.9.4",
   "mimetype": "text/x-python",
   "codemirror_mode": {
    "name": "ipython",
    "version": 3
   },
   "pygments_lexer": "ipython3",
   "nbconvert_exporter": "python",
   "file_extension": ".py"
  },
  "kernelspec": {
   "name": "python3",
   "display_name": "Python 3.9.4 64-bit ('venv': venv)"
  },
  "interpreter": {
   "hash": "59e2289ca57af2abdb2de8161cabdb63ec4fa8509fdbe76da7ad981afd55bcdc"
  }
 },
 "nbformat": 4,
 "nbformat_minor": 2
}