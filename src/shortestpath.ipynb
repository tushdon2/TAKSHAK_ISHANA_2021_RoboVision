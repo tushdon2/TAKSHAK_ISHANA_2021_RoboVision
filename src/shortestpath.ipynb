{
 "cells": [
  {
   "cell_type": "markdown",
   "metadata": {},
   "source": [
    "# Python Libraries"
   ]
  },
  {
   "cell_type": "code",
   "execution_count": 1,
   "metadata": {},
   "outputs": [
    {
     "ename": "ModuleNotFoundError",
     "evalue": "No module named 'cv2'",
     "output_type": "error",
     "traceback": [
      "\u001b[1;31m---------------------------------------------------------------------------\u001b[0m",
      "\u001b[1;31mModuleNotFoundError\u001b[0m                       Traceback (most recent call last)",
      "\u001b[1;32m<ipython-input-1-fff6700b1ac5>\u001b[0m in \u001b[0;36m<module>\u001b[1;34m\u001b[0m\n\u001b[0;32m      1\u001b[0m \u001b[1;32mimport\u001b[0m \u001b[0mos\u001b[0m\u001b[1;33m\u001b[0m\u001b[1;33m\u001b[0m\u001b[0m\n\u001b[1;32m----> 2\u001b[1;33m \u001b[1;32mimport\u001b[0m \u001b[0mcv2\u001b[0m\u001b[1;33m\u001b[0m\u001b[1;33m\u001b[0m\u001b[0m\n\u001b[0m\u001b[0;32m      3\u001b[0m \u001b[1;32mimport\u001b[0m \u001b[0mnumpy\u001b[0m \u001b[1;32mas\u001b[0m \u001b[0mnp\u001b[0m\u001b[1;33m\u001b[0m\u001b[1;33m\u001b[0m\u001b[0m\n\u001b[0;32m      4\u001b[0m \u001b[1;32mimport\u001b[0m \u001b[0mjson\u001b[0m\u001b[1;33m\u001b[0m\u001b[1;33m\u001b[0m\u001b[0m\n",
      "\u001b[1;31mModuleNotFoundError\u001b[0m: No module named 'cv2'"
     ]
    }
   ],
   "source": [
    "import os\n",
    "import cv2\n",
    "import numpy as np\n",
    "import json"
   ]
  },
  {
   "cell_type": "markdown",
   "metadata": {},
   "source": [
    "# Start and End Point Marking Function"
   ]
  },
  {
   "cell_type": "code",
   "execution_count": null,
   "metadata": {},
   "outputs": [],
   "source": [
    "def point_marking(start, end, img):\n",
    "    x1=start[0]\n",
    "    y1=start[1]\n",
    "    x2=end[0]\n",
    "    y2=end[1]\n",
    "\n",
    "    cv2.circle(img, (x1,y1), 10, (255,0,255), cv2.FILLED)\n",
    "    cv2.circle(img, (x2,y2), 10, (0,0,255), cv2.FILLED)\n",
    "\n",
    "    return img"
   ]
  },
  {
   "cell_type": "markdown",
   "metadata": {},
   "source": [
    "# Extracting different image file names"
   ]
  },
  {
   "cell_type": "code",
   "execution_count": null,
   "metadata": {},
   "outputs": [],
   "source": [
    "filenames= os.listdir(\"F:\\\\TAKSHAK_ISHANA_2021_RoboVision\\\\Takshak_dataset40%\")\n",
    "imagenames=[]\n",
    "for file in filenames:\n",
    "    if file.split('.')[-1] == 'png':\n",
    "        imagenames.append(file)"
   ]
  },
  {
   "cell_type": "markdown",
   "metadata": {},
   "source": [
    "# Reading any one json file to extract and then mark the start-end point (Working)"
   ]
  },
  {
   "cell_type": "code",
   "execution_count": null,
   "metadata": {},
   "outputs": [],
   "source": [
    "\n",
    "img= cv2.imread(\"F:\\\\TAKSHAK_ISHANA_2021_RoboVision\\\\Takshak_dataset40%\\\\Image1.png\")\n",
    "f = open(\"F:\\\\TAKSHAK_ISHANA_2021_RoboVision\\\\Takshak_dataset40%\\\\Image1.json\")\n",
    "data = json.load(f)\n",
    "f.close()\n",
    "start_point = data['Start']\n",
    "end_point = data['End']\n",
    "img = point_marking(start_point, end_point, img)\n",
    "cv2.imshow(\"Marked\", img)\n",
    "cv2.waitKey(0)"
   ]
  },
  {
   "cell_type": "markdown",
   "metadata": {},
   "source": [
    "# Reading all the json file in loop to extract and then mark their start-end points (Showing Error)"
   ]
  },
  {
   "cell_type": "code",
   "execution_count": null,
   "metadata": {},
   "outputs": [],
   "source": [
    "for name in imagenames:\n",
    "    img = cv2.imread(name)\n",
    "    json_name = name.split(\".\")[0]+'.json'\n",
    "    file_path = os.path.join(\"F:\\\\TAKSHAK_ISHANA_2021_RoboVision\\\\Takshak_dataset40%\",json_name)\n",
    "    f = open(file_path)\n",
    "    data = json.load(f)\n",
    "    f.close()\n",
    "    start_point = data['Start']\n",
    "    end_point = data['End']\n",
    "    img = point_marking(start_point, end_point, img)\n",
    "    cv2.imshow(\"Marked\", img)\n",
    "    cv2.waitKey(2000)"
   ]
  }
 ],
 "metadata": {
  "interpreter": {
   "hash": "59e2289ca57af2abdb2de8161cabdb63ec4fa8509fdbe76da7ad981afd55bcdc"
  },
  "kernelspec": {
   "display_name": "Python 3",
   "language": "python",
   "name": "python3"
  },
  "language_info": {
   "codemirror_mode": {
    "name": "ipython",
    "version": 3
   },
   "file_extension": ".py",
   "mimetype": "text/x-python",
   "name": "python",
   "nbconvert_exporter": "python",
   "pygments_lexer": "ipython3",
   "version": "3.9.4"
  }
 },
 "nbformat": 4,
 "nbformat_minor": 2
}
