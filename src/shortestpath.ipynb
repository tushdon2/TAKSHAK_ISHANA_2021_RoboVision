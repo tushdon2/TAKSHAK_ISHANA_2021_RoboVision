{
 "cells": [
  {
   "cell_type": "markdown",
   "source": [
    "# Python Libraries"
   ],
   "metadata": {}
  },
  {
   "cell_type": "code",
   "execution_count": null,
   "source": [
    "import os\r\n",
    "import cv2\r\n",
    "import numpy as np\r\n",
    "import json"
   ],
   "outputs": [],
   "metadata": {}
  },
  {
   "cell_type": "markdown",
   "source": [
    "# Start and End Point Marking Function"
   ],
   "metadata": {}
  },
  {
   "cell_type": "code",
   "execution_count": null,
   "source": [
    "def point_marking(start , end, img):\r\n",
    "    x1=start[0]\r\n",
    "    y1=start[1]\r\n",
    "    x2=end[0]\r\n",
    "    y2=end[1]\r\n",
    "\r\n",
    "    cv2.circle(img, (x1,y1), 10, (255,0,255), cv2.FILLED)\r\n",
    "    cv2.circle(img, (x2,y2), 10, (0,0,255), cv2.FILLED)\r\n",
    "\r\n",
    "    return img"
   ],
   "outputs": [],
   "metadata": {}
  },
  {
   "cell_type": "markdown",
   "source": [
    "# defining Agent class"
   ],
   "metadata": {}
  },
  {
   "cell_type": "code",
   "execution_count": null,
   "source": [
    "class Agent:\r\n",
    "\r\n",
    "    def __init__(self, x=0, y=0):\r\n",
    "        self.x=x\r\n",
    "        self.y=y\r\n",
    "\r\n",
    "    def vmove(self,direction):\r\n",
    "        direction=1 if direction>0 else -1\r\n",
    "        return Agent(self.x + direction, self.y)\r\n",
    "    \r\n",
    "    def hmove(self,direction):\r\n",
    "        direction=1 if direction>0 else -1\r\n",
    "        return Agent(self.x , direction+ self.y)"
   ],
   "outputs": [],
   "metadata": {}
  },
  {
   "cell_type": "markdown",
   "source": [
    "# defining environment conditions"
   ],
   "metadata": {}
  },
  {
   "cell_type": "code",
   "execution_count": null,
   "source": [
    "class env:\r\n",
    "\r\n",
    "    def __init__(self) -> None:\r\n",
    "        self.bot=Agent(0,0)\r\n",
    "            \r\n",
    "    def on_roads(self, x, y):\r\n",
    "        a=self.bot\r\n",
    "        return True if img[a.x,a.y]==255 else False    #our actual image input to this program will be in grayscale in wgich we will have road value\r\n",
    "                                                       #to 255 and others to 0.This function will return 0 if our bot is on roads.\r\n",
    "    def do_a_move(self, action):\r\n",
    "        self.bot=action              #action will be any one of Agent.vmove(1), Agent.hmove(-1)..etc. which we will be returning after \r\n",
    "                                     #computing the appropriate move from aur search algorithm\r\n"
   ],
   "outputs": [],
   "metadata": {}
  },
  {
   "cell_type": "markdown",
   "source": [
    "# Extracting different image file names"
   ],
   "metadata": {}
  },
  {
   "cell_type": "code",
   "execution_count": null,
   "source": [
    "\r\n",
    "filenames= os.listdir(\"C:\\\\Users\\\\Apurba P. Padhy\\\\Documents\\\\GitHub\\\\TAKSHAK_ISHANA_2021_RoboVision\\\\Takshak_dataset40%\")\r\n",
    "imagenames=[]\r\n",
    "for file in filenames:\r\n",
    "    if file.split('.')[-1] == 'png':\r\n",
    "        imagenames.append(file)\r\n"
   ],
   "outputs": [],
   "metadata": {}
  },
  {
   "cell_type": "markdown",
   "source": [
    "# Reading any one json file to extract and then mark the start-end point (Working)"
   ],
   "metadata": {}
  },
  {
   "cell_type": "code",
   "execution_count": null,
   "source": [
    "\r\n",
    "img= cv2.imread(\"C:\\\\Users\\\\Apurba P. Padhy\\\\Documents\\\\GitHub\\\\TAKSHAK_ISHANA_2021_RoboVision\\\\Takshak_dataset40%\\\\Image7.png\")\r\n",
    "f = open(\"C:\\\\Users\\\\Apurba P. Padhy\\\\Documents\\\\GitHub\\\\TAKSHAK_ISHANA_2021_RoboVision\\\\Takshak_dataset40%\\\\Image7.json\")\r\n",
    "data = json.load(f)\r\n",
    "f.close()\r\n",
    "start_point= data['Start']\r\n",
    "end_point= data['End']\r\n",
    "img=point_marking(start_point, end_point, img)\r\n",
    "cv2.imshow(\"Marked\", img)\r\n",
    "cv2.waitKey(0)"
   ],
   "outputs": [],
   "metadata": {}
  },
  {
   "cell_type": "markdown",
   "source": [
    "# Reading all the json file in loop to extract and then mark there start-end points (Showing Error)"
   ],
   "metadata": {}
  },
  {
   "cell_type": "code",
   "execution_count": null,
   "source": [
    "for name in imagenames:\r\n",
    "    img= cv2.imread(name)\r\n",
    "    json_name= name.split(\".\")[0]+'.json'\r\n",
    "    file_path = os.path.join(\"C:\\\\Users\\\\Apurba P. Padhy\\\\Documents\\\\GitHub\\\\TAKSHAK_ISHANA_2021_RoboVision\\\\Takshak_dataset40%\",json_name)\r\n",
    "    f=open(file_path)\r\n",
    "    data = json.load(f)\r\n",
    "    f.close()\r\n",
    "    start_point= data['Start']\r\n",
    "    end_point= data['End']\r\n",
    "    img=point_marking(start_point, end_point, img)\r\n",
    "    cv2.imshow(\"Marked\", img)\r\n",
    "    cv2.waitKey(0)"
   ],
   "outputs": [],
   "metadata": {}
  }
 ],
 "metadata": {
  "orig_nbformat": 4,
  "language_info": {
   "name": "python",
   "version": "3.9.6",
   "mimetype": "text/x-python",
   "codemirror_mode": {
    "name": "ipython",
    "version": 3
   },
   "pygments_lexer": "ipython3",
   "nbconvert_exporter": "python",
   "file_extension": ".py"
  },
  "kernelspec": {
   "name": "python3",
   "display_name": "Python 3.9.6 64-bit ('.venv': venv)"
  },
  "interpreter": {
   "hash": "a5851cf43e89c10f99519bfaee310a2ad64a656bae5236c7ec6f3ff5135620e5"
  }
 },
 "nbformat": 4,
 "nbformat_minor": 2
}